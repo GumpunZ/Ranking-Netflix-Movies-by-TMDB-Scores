{
  "nbformat": 4,
  "nbformat_minor": 0,
  "metadata": {
    "colab": {
      "provenance": []
    },
    "kernelspec": {
      "name": "python3",
      "display_name": "Python 3"
    },
    "language_info": {
      "name": "python"
    }
  },
  "cells": [
    {
      "cell_type": "markdown",
      "source": [
        "api : e129c34c5d78c154f63e7f46965cb9da"
      ],
      "metadata": {
        "id": "JgUUuYjXm-NF"
      }
    },
    {
      "cell_type": "markdown",
      "source": [
        "เป้าหมาย\n",
        "\n",
        "\n",
        "1.   เอารายชื่อหนังจากข้อมูล Netflix จาก Kaggle\n",
        "2.   เอารายชื่อหนังของ tmdb มา merge กัน กับข้อมูลชุดแรก ข้อมูลชุดที่จะมี id ของ tmdb\n",
        "3.   ทำความสะอาดข้อมูล (ซ้ำ null)\n",
        "4.   เอา id tmdb ที่ได้ไปวิ่งลูปเรียก api ตาม id เขียนลง csv (คัดคอลัมน์บางส่วน)\n",
        "5.   เอาไป merge กับข้อมูลในข้อ 2. จากนั้นคัดคอลัมน์ที่ต้องการ แล้วเขียนลงไฟล์ csv\n",
        "\n",
        "\n",
        "\n"
      ],
      "metadata": {
        "id": "uJ0M_dyI9xQa"
      }
    },
    {
      "cell_type": "code",
      "source": [
        "import gzip\n",
        "import json\n",
        "import os\n",
        "import pandas as pd\n",
        "import requests\n",
        "\n",
        "from io import BytesIO\n",
        "from time import sleep"
      ],
      "metadata": {
        "id": "gvZ7gKjpg9BM"
      },
      "execution_count": null,
      "outputs": []
    },
    {
      "cell_type": "markdown",
      "source": [
        "# Netflix and tmdb id\n"
      ],
      "metadata": {
        "id": "waXLJaHDcEau"
      }
    },
    {
      "cell_type": "code",
      "source": [
        "!gdown 1JuREBI6CBJcnwVYkVe1ISjzlBHLlnFsn"
      ],
      "metadata": {
        "colab": {
          "base_uri": "https://localhost:8080/"
        },
        "id": "DoLls62FcHWl",
        "outputId": "e66ca828-a5f1-4bb9-ab49-1059d351c098"
      },
      "execution_count": null,
      "outputs": [
        {
          "output_type": "stream",
          "name": "stdout",
          "text": [
            "Downloading...\n",
            "From: https://drive.google.com/uc?id=1JuREBI6CBJcnwVYkVe1ISjzlBHLlnFsn\n",
            "To: /content/NetFlix.csv.zip\n",
            "\r  0% 0.00/1.23M [00:00<?, ?B/s]\r100% 1.23M/1.23M [00:00<00:00, 71.5MB/s]\n"
          ]
        }
      ]
    },
    {
      "cell_type": "code",
      "source": [
        "!unzip /content/NetFlix.csv.zip"
      ],
      "metadata": {
        "colab": {
          "base_uri": "https://localhost:8080/"
        },
        "id": "AJxnUssNciuW",
        "outputId": "212dcb47-abba-4401-c467-00a9f58350bc"
      },
      "execution_count": null,
      "outputs": [
        {
          "output_type": "stream",
          "name": "stdout",
          "text": [
            "Archive:  /content/NetFlix.csv.zip\n",
            "  inflating: NetFlix.csv             \n"
          ]
        }
      ]
    },
    {
      "cell_type": "code",
      "source": [
        "netFlix = pd.read_csv('/content/NetFlix.csv')\n",
        "netFlix = netFlix[netFlix['type']=='Movie']"
      ],
      "metadata": {
        "id": "QNBUM-VmdDrT"
      },
      "execution_count": null,
      "outputs": []
    },
    {
      "cell_type": "code",
      "source": [
        "def tmdb_id_url(category):\n",
        "    year = str(pd.datetime.today().year)\n",
        "    month = str(pd.datetime.today().month).zfill(2)\n",
        "    day = str(pd.datetime.today().day - 1).zfill(2)\n",
        "    return '_'.join([category, 'ids', month, day, year]) + '.' + \"json\"\n",
        "\n",
        "id_url = f\"http://files.tmdb.org/p/exports/{tmdb_id_url('movie')}.gz\"\n",
        "with gzip.open(BytesIO(requests.get(id_url).content), 'r') as f_open:\n",
        "  id_list = f_open.readlines()\n",
        "\n",
        "id_df = pd.DataFrame([json.loads(i) for i in id_list])"
      ],
      "metadata": {
        "id": "hj4PNtfae6Oi",
        "colab": {
          "base_uri": "https://localhost:8080/"
        },
        "outputId": "2ca61c7c-daf9-49b8-f1a8-e5b791dc6b61"
      },
      "execution_count": null,
      "outputs": [
        {
          "output_type": "stream",
          "name": "stderr",
          "text": [
            "<ipython-input-5-027c4cd768de>:2: FutureWarning: The pandas.datetime class is deprecated and will be removed from pandas in a future version. Import from datetime module instead.\n",
            "  year = str(pd.datetime.today().year)\n",
            "<ipython-input-5-027c4cd768de>:3: FutureWarning: The pandas.datetime class is deprecated and will be removed from pandas in a future version. Import from datetime module instead.\n",
            "  month = str(pd.datetime.today().month).zfill(2)\n",
            "<ipython-input-5-027c4cd768de>:4: FutureWarning: The pandas.datetime class is deprecated and will be removed from pandas in a future version. Import from datetime module instead.\n",
            "  day = str(pd.datetime.today().day - 1).zfill(2)\n"
          ]
        }
      ]
    },
    {
      "cell_type": "code",
      "source": [
        "id_df = id_df.drop_duplicates(subset=[\"original_title\"], keep='last')"
      ],
      "metadata": {
        "id": "Eg6D3RmAnoiX"
      },
      "execution_count": null,
      "outputs": []
    },
    {
      "cell_type": "code",
      "source": [
        "df = id_df.merge(netFlix, left_on=\"original_title\", right_on='title')"
      ],
      "metadata": {
        "id": "xBOJyObBjTyJ"
      },
      "execution_count": null,
      "outputs": []
    },
    {
      "cell_type": "code",
      "source": [
        "net_df = df[['id', \"original_title\", \"director\", \"release_year\", \"description\"]]"
      ],
      "metadata": {
        "id": "NhvuXIi7Ylw7"
      },
      "execution_count": null,
      "outputs": []
    },
    {
      "cell_type": "code",
      "source": [
        "net_df.dropna(subset=['director'], inplace=True)"
      ],
      "metadata": {
        "id": "cmn7aQr4wz4I",
        "colab": {
          "base_uri": "https://localhost:8080/"
        },
        "outputId": "b149eda7-60b6-4bfe-f3b8-7887b7067ff9"
      },
      "execution_count": null,
      "outputs": [
        {
          "output_type": "stream",
          "name": "stderr",
          "text": [
            "<ipython-input-9-3bcc5ca4389d>:1: SettingWithCopyWarning: \n",
            "A value is trying to be set on a copy of a slice from a DataFrame\n",
            "\n",
            "See the caveats in the documentation: https://pandas.pydata.org/pandas-docs/stable/user_guide/indexing.html#returning-a-view-versus-a-copy\n",
            "  net_df.dropna(subset=['director'], inplace=True)\n"
          ]
        }
      ]
    },
    {
      "cell_type": "code",
      "source": [
        "net_df.info()"
      ],
      "metadata": {
        "colab": {
          "base_uri": "https://localhost:8080/"
        },
        "id": "gsfK7NiQvmeR",
        "outputId": "ae2fc74e-12cf-453e-d406-6625b6378607"
      },
      "execution_count": null,
      "outputs": [
        {
          "output_type": "stream",
          "name": "stdout",
          "text": [
            "<class 'pandas.core.frame.DataFrame'>\n",
            "Int64Index: 3559 entries, 0 to 3646\n",
            "Data columns (total 5 columns):\n",
            " #   Column          Non-Null Count  Dtype \n",
            "---  ------          --------------  ----- \n",
            " 0   id              3559 non-null   int64 \n",
            " 1   original_title  3559 non-null   object\n",
            " 2   director        3559 non-null   object\n",
            " 3   release_year    3559 non-null   int64 \n",
            " 4   description     3559 non-null   object\n",
            "dtypes: int64(2), object(3)\n",
            "memory usage: 166.8+ KB\n"
          ]
        }
      ]
    },
    {
      "cell_type": "markdown",
      "source": [
        "# TMDB API"
      ],
      "metadata": {
        "id": "4pn3qjAIczZH"
      }
    },
    {
      "cell_type": "code",
      "source": [
        "API_KEY = 'e129c34c5d78c154f63e7f46965cb9da'\n",
        "\n",
        "id_list = net_df.id.tolist()\n",
        "\n",
        "CATEGORY = 'movie'\n",
        "DOWNLOADS_PER_DISK_WRITE = 40\n",
        "MAX_DOWNLOADS_PER_SECOND = 4\n",
        "MAX_ATTEMPTS = 3\n",
        "RATE_LIMITER_DELAY_SECONDS = 10\n",
        "RATE_LIMIT_EXCEEDED_STATUS_CODE = 429\n",
        "SUCCESSFUL_CALL_STATUS_CODE = 200\n",
        "\n",
        "\n",
        "COLUMNS = [\"id\",\n",
        "  \"budget\",\n",
        "  \"revenue\",\n",
        "  \"genres\",\n",
        "  \"original_title\",\n",
        "  \"runtime\",\n",
        "  \"vote_average\",\n",
        "  \"vote_count\",\n",
        "  \"credits\",\n",
        "  'production_countries']\n",
        "\n",
        "JSON_COLUMNS = [ \"genres\",\n",
        "                  \"cast\",\n",
        "                  \"production_countries\"]"
      ],
      "metadata": {
        "id": "09ahK-zbc2XS"
      },
      "execution_count": null,
      "outputs": []
    },
    {
      "cell_type": "code",
      "source": [
        "def was_successful(response):\n",
        "    return response.status_code == SUCCESSFUL_CALL_STATUS_CODE\n",
        "\n",
        "\n",
        "def was_rate_limited(response):\n",
        "    return response.status_code == RATE_LIMIT_EXCEEDED_STATUS_CODE\n",
        "\n",
        "\n",
        "def make_request(call_url, prior_attempts=0):\n",
        "    if prior_attempts >= MAX_ATTEMPTS:\n",
        "        return None\n",
        "    response = requests.get(call_url)\n",
        "    if was_rate_limited(response):\n",
        "        sleep(RATE_LIMITER_DELAY_SECONDS)\n",
        "    sleep(1 / MAX_DOWNLOADS_PER_SECOND)\n",
        "    if was_successful(response):\n",
        "        return response.json()\n",
        "    else:\n",
        "        sleep(1)  # attempt to sleep through any intermittent issues\n",
        "        return make_request(call_url, prior_attempts + 1)\n",
        "\n",
        "\n",
        "def make_detail_request(entry_id):\n",
        "    call_url =  f'https://api.themoviedb.org/3/{CATEGORY}/{entry_id}?api_key={API_KEY}&append_to_response=credits,keywords'\n",
        "    return make_request(call_url)\n",
        "\n",
        "def export_data(entries):\n",
        "  if not entries:\n",
        "    return None\n",
        "  df = pd.DataFrame(entries)\n",
        "  df = df[[i for i in df.columns if i in COLUMNS]]\n",
        "  df['cast'] = df.credits.apply(lambda x:x['cast'])\n",
        "  df.drop(['credits'], axis=1)\n",
        "  for column in JSON_COLUMNS:\n",
        "    df[column] = df[column].apply(json.dumps)\n",
        "\n",
        "  needs_header = not(os.path.exists(CATEGORY + '_data.csv'))\n",
        "  df.to_csv(CATEGORY + '_data.csv', index=False, mode='a+', header=needs_header)\n",
        "\n",
        "\n",
        "def download_movie_data():\n",
        "  counter = 0\n",
        "  entries = []\n",
        "  for id in id_list:\n",
        "    current_data = make_detail_request(id)\n",
        "    if not current_data:\n",
        "      print(f'Failed on move id : {id}')\n",
        "      continue\n",
        "    counter +=1\n",
        "    entries.append(current_data)\n",
        "    if counter % DOWNLOADS_PER_DISK_WRITE == 0:\n",
        "      print(f'Finished downloading {counter} entries for {CATEGORY}')\n",
        "      export_data(entries)\n",
        "      entries = []\n",
        "  export_data(entries)\n",
        "  print(f'Finished downloading for all {counter} entries.')"
      ],
      "metadata": {
        "id": "K7_Jf31ajpql"
      },
      "execution_count": null,
      "outputs": []
    },
    {
      "cell_type": "code",
      "source": [
        "download_movie_data()"
      ],
      "metadata": {
        "colab": {
          "base_uri": "https://localhost:8080/"
        },
        "id": "IXFGjAMtrUUv",
        "outputId": "18e75f00-982a-4d0e-95e6-6cbb1f999d99"
      },
      "execution_count": null,
      "outputs": [
        {
          "output_type": "stream",
          "name": "stdout",
          "text": [
            "Finished downloading 40 entries for movie\n",
            "Finished downloading 80 entries for movie\n",
            "Finished downloading 120 entries for movie\n",
            "Finished downloading 160 entries for movie\n",
            "Finished downloading 200 entries for movie\n",
            "Finished downloading 240 entries for movie\n",
            "Finished downloading 280 entries for movie\n",
            "Finished downloading 320 entries for movie\n",
            "Finished downloading 360 entries for movie\n",
            "Finished downloading 400 entries for movie\n",
            "Finished downloading 440 entries for movie\n",
            "Finished downloading 480 entries for movie\n",
            "Finished downloading 520 entries for movie\n",
            "Finished downloading 560 entries for movie\n",
            "Finished downloading 600 entries for movie\n",
            "Finished downloading 640 entries for movie\n",
            "Finished downloading 680 entries for movie\n",
            "Finished downloading 720 entries for movie\n",
            "Finished downloading 760 entries for movie\n",
            "Finished downloading 800 entries for movie\n",
            "Finished downloading 840 entries for movie\n",
            "Finished downloading 880 entries for movie\n",
            "Finished downloading 920 entries for movie\n",
            "Finished downloading 960 entries for movie\n",
            "Finished downloading 1000 entries for movie\n",
            "Finished downloading 1040 entries for movie\n",
            "Finished downloading 1080 entries for movie\n",
            "Finished downloading 1120 entries for movie\n",
            "Finished downloading 1160 entries for movie\n",
            "Finished downloading 1200 entries for movie\n",
            "Finished downloading 1240 entries for movie\n",
            "Finished downloading 1280 entries for movie\n",
            "Finished downloading 1320 entries for movie\n",
            "Finished downloading 1360 entries for movie\n",
            "Finished downloading 1400 entries for movie\n",
            "Finished downloading 1440 entries for movie\n",
            "Finished downloading 1480 entries for movie\n",
            "Finished downloading 1520 entries for movie\n",
            "Finished downloading 1560 entries for movie\n",
            "Finished downloading 1600 entries for movie\n",
            "Finished downloading 1640 entries for movie\n",
            "Finished downloading 1680 entries for movie\n",
            "Finished downloading 1720 entries for movie\n",
            "Finished downloading 1760 entries for movie\n",
            "Finished downloading 1800 entries for movie\n",
            "Finished downloading 1840 entries for movie\n",
            "Finished downloading 1880 entries for movie\n",
            "Finished downloading 1920 entries for movie\n",
            "Finished downloading 1960 entries for movie\n",
            "Finished downloading 2000 entries for movie\n",
            "Finished downloading 2040 entries for movie\n",
            "Finished downloading 2080 entries for movie\n",
            "Finished downloading 2120 entries for movie\n",
            "Finished downloading 2160 entries for movie\n",
            "Finished downloading 2200 entries for movie\n",
            "Finished downloading 2240 entries for movie\n",
            "Finished downloading 2280 entries for movie\n",
            "Finished downloading 2320 entries for movie\n",
            "Finished downloading 2360 entries for movie\n",
            "Finished downloading 2400 entries for movie\n",
            "Finished downloading 2440 entries for movie\n",
            "Finished downloading 2480 entries for movie\n",
            "Finished downloading 2520 entries for movie\n",
            "Finished downloading 2560 entries for movie\n",
            "Finished downloading 2600 entries for movie\n",
            "Finished downloading 2640 entries for movie\n",
            "Finished downloading 2680 entries for movie\n",
            "Finished downloading 2720 entries for movie\n",
            "Finished downloading 2760 entries for movie\n",
            "Finished downloading 2800 entries for movie\n",
            "Finished downloading 2840 entries for movie\n",
            "Finished downloading 2880 entries for movie\n",
            "Finished downloading 2920 entries for movie\n",
            "Finished downloading 2960 entries for movie\n",
            "Finished downloading 3000 entries for movie\n",
            "Finished downloading 3040 entries for movie\n",
            "Finished downloading 3080 entries for movie\n",
            "Finished downloading 3120 entries for movie\n",
            "Finished downloading 3160 entries for movie\n",
            "Finished downloading 3200 entries for movie\n",
            "Finished downloading 3240 entries for movie\n",
            "Finished downloading 3280 entries for movie\n",
            "Finished downloading 3320 entries for movie\n",
            "Finished downloading 3360 entries for movie\n",
            "Finished downloading 3400 entries for movie\n",
            "Finished downloading 3440 entries for movie\n",
            "Finished downloading 3480 entries for movie\n",
            "Finished downloading 3520 entries for movie\n",
            "Finished downloading for all 3559 entries.\n"
          ]
        }
      ]
    },
    {
      "cell_type": "code",
      "source": [
        "tmdb_df = pd.read_csv(\"/content/movie_data.csv\")"
      ],
      "metadata": {
        "id": "3Ig6Zrzyxzy1"
      },
      "execution_count": null,
      "outputs": []
    },
    {
      "cell_type": "code",
      "source": [
        "ndf = tmdb_df.copy()"
      ],
      "metadata": {
        "id": "Q_QjhaMUyy8u"
      },
      "execution_count": null,
      "outputs": []
    },
    {
      "cell_type": "code",
      "source": [
        "final_data = net_df.merge(ndf, left_on='id', right_on='id')"
      ],
      "metadata": {
        "id": "ZSHgfnkmx54O"
      },
      "execution_count": null,
      "outputs": []
    },
    {
      "cell_type": "code",
      "source": [
        "final_df = final_data[['id', 'original_title_x', 'director', 'genres', 'description', 'release_year',  'production_countries', 'runtime',  'budget', 'revenue', 'vote_average', 'vote_count', 'cast']]"
      ],
      "metadata": {
        "id": "XJ_2nqTo0XPG"
      },
      "execution_count": null,
      "outputs": []
    },
    {
      "cell_type": "code",
      "source": [
        "final_df = final_df.rename(columns={'original_title_x': 'title'})"
      ],
      "metadata": {
        "id": "86DgG4pO1JQN"
      },
      "execution_count": null,
      "outputs": []
    },
    {
      "cell_type": "code",
      "source": [
        "final_df.to_csv('final_movie_data.csv', index=False)"
      ],
      "metadata": {
        "id": "pMYDUlfX1PT9"
      },
      "execution_count": null,
      "outputs": []
    }
  ]
}